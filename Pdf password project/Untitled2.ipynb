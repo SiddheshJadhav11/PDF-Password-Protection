{
 "cells": [
  {
   "cell_type": "code",
   "execution_count": 3,
   "id": "c0df7c6e-cdf6-4e55-80ca-a6eaeb2d2616",
   "metadata": {},
   "outputs": [
    {
     "name": "stdout",
     "output_type": "stream",
     "text": [
      "Collecting pikepdf\n",
      "  Downloading pikepdf-9.5.1-cp313-cp313-win_amd64.whl.metadata (8.3 kB)\n",
      "Collecting Pillow>=10.0.1 (from pikepdf)\n",
      "  Downloading pillow-11.1.0-cp313-cp313-win_amd64.whl.metadata (9.3 kB)\n",
      "Collecting Deprecated (from pikepdf)\n",
      "  Downloading Deprecated-1.2.18-py2.py3-none-any.whl.metadata (5.7 kB)\n",
      "Collecting lxml>=4.8 (from pikepdf)\n",
      "  Downloading lxml-5.3.0-cp313-cp313-win_amd64.whl.metadata (3.9 kB)\n",
      "Requirement already satisfied: packaging in c:\\users\\siddhesh\\appdata\\local\\programs\\python\\python313\\lib\\site-packages (from pikepdf) (24.2)\n",
      "Collecting wrapt<2,>=1.10 (from Deprecated->pikepdf)\n",
      "  Downloading wrapt-1.17.2-cp313-cp313-win_amd64.whl.metadata (6.5 kB)\n",
      "Downloading pikepdf-9.5.1-cp313-cp313-win_amd64.whl (3.5 MB)\n",
      "   ---------------------------------------- 0.0/3.5 MB ? eta -:--:--\n",
      "   --- ------------------------------------ 0.3/3.5 MB ? eta -:--:--\n",
      "   ------------ --------------------------- 1.0/3.5 MB 3.9 MB/s eta 0:00:01\n",
      "   --------------------- ------------------ 1.8/3.5 MB 3.7 MB/s eta 0:00:01\n",
      "   ------------------------------ --------- 2.6/3.5 MB 3.8 MB/s eta 0:00:01\n",
      "   ---------------------------------------- 3.5/3.5 MB 3.8 MB/s eta 0:00:00\n",
      "Downloading lxml-5.3.0-cp313-cp313-win_amd64.whl (3.8 MB)\n",
      "   ---------------------------------------- 0.0/3.8 MB ? eta -:--:--\n",
      "   -- ------------------------------------- 0.3/3.8 MB ? eta -:--:--\n",
      "   ----- ---------------------------------- 0.5/3.8 MB 2.4 MB/s eta 0:00:02\n",
      "   ---------- ----------------------------- 1.0/3.8 MB 1.7 MB/s eta 0:00:02\n",
      "   ------------- -------------------------- 1.3/3.8 MB 1.6 MB/s eta 0:00:02\n",
      "   ------------------- -------------------- 1.8/3.8 MB 1.9 MB/s eta 0:00:02\n",
      "   --------------------------- ------------ 2.6/3.8 MB 2.2 MB/s eta 0:00:01\n",
      "   ----------------------------------- ---- 3.4/3.8 MB 2.5 MB/s eta 0:00:01\n",
      "   ---------------------------------------- 3.8/3.8 MB 2.5 MB/s eta 0:00:00\n",
      "Downloading pillow-11.1.0-cp313-cp313-win_amd64.whl (2.6 MB)\n",
      "   ---------------------------------------- 0.0/2.6 MB ? eta -:--:--\n",
      "   ------- -------------------------------- 0.5/2.6 MB 4.6 MB/s eta 0:00:01\n",
      "   ----------------------- ---------------- 1.6/2.6 MB 4.4 MB/s eta 0:00:01\n",
      "   ----------------------------------- ---- 2.4/2.6 MB 4.4 MB/s eta 0:00:01\n",
      "   ---------------------------------------- 2.6/2.6 MB 4.3 MB/s eta 0:00:00\n",
      "Downloading Deprecated-1.2.18-py2.py3-none-any.whl (10.0 kB)\n",
      "Downloading wrapt-1.17.2-cp313-cp313-win_amd64.whl (38 kB)\n",
      "Installing collected packages: wrapt, Pillow, lxml, Deprecated, pikepdf\n",
      "Successfully installed Deprecated-1.2.18 Pillow-11.1.0 lxml-5.3.0 pikepdf-9.5.1 wrapt-1.17.2\n",
      "Note: you may need to restart the kernel to use updated packages.\n"
     ]
    }
   ],
   "source": [
    "pip install pikepdf\n"
   ]
  },
  {
   "cell_type": "code",
   "execution_count": 4,
   "id": "ec1ec29a-e8a9-4f0d-b8d8-0c475719866f",
   "metadata": {},
   "outputs": [],
   "source": [
    "import pikepdf"
   ]
  },
  {
   "cell_type": "code",
   "execution_count": 6,
   "id": "8baeaa5f-8145-4fee-ac32-cbb40a19baa6",
   "metadata": {},
   "outputs": [],
   "source": [
    "old_pdf = pikepdf.Pdf.open(r\"D:\\Roadmap for Data Analyst\\Data Analyst RM.pdf\")"
   ]
  },
  {
   "cell_type": "code",
   "execution_count": 7,
   "id": "a7fffa6b-22ab-42bd-a29d-17dd3c852110",
   "metadata": {},
   "outputs": [],
   "source": [
    "no_extr = pikepdf.Permissions(extract=False) "
   ]
  },
  {
   "cell_type": "code",
   "execution_count": 8,
   "id": "cc176d55-c190-4462-92c6-a5721fd95e88",
   "metadata": {},
   "outputs": [],
   "source": [
    "old_pdf.save(r\"D:\\Roadmap for Data Analyst\\Data Analyst RM 1.pdf\",\n",
    "            encryption= pikepdf.Encryption(user=\"143u\",\n",
    "                                          owner= \"Sid\",\n",
    "                                          allow= no_extr)) "
   ]
  },
  {
   "cell_type": "code",
   "execution_count": null,
   "id": "a2a5cd33-41ad-4fc8-b3b3-9d18b8c99ada",
   "metadata": {},
   "outputs": [],
   "source": []
  }
 ],
 "metadata": {
  "kernelspec": {
   "display_name": "Python 3 (ipykernel)",
   "language": "python",
   "name": "python3"
  },
  "language_info": {
   "codemirror_mode": {
    "name": "ipython",
    "version": 3
   },
   "file_extension": ".py",
   "mimetype": "text/x-python",
   "name": "python",
   "nbconvert_exporter": "python",
   "pygments_lexer": "ipython3",
   "version": "3.13.1"
  }
 },
 "nbformat": 4,
 "nbformat_minor": 5
}
